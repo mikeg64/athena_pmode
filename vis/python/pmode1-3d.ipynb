{
 "cells": [
  {
   "cell_type": "code",
   "execution_count": 58,
   "metadata": {
    "collapsed": false,
    "scrolled": true
   },
   "outputs": [
    {
     "name": "stderr",
     "output_type": "stream",
     "text": [
      "/opt/gridware/depots/74ad4a9a/el7/pkg/apps/anaconda3/2.5.0/bin/lib/python3.5/site-packages/matplotlib/__init__.py:1350: UserWarning:  This call to matplotlib.use() has no effect\n",
      "because the backend has already been chosen;\n",
      "matplotlib.use() must be called *before* pylab, matplotlib.pyplot,\n",
      "or matplotlib.backends is imported for the first time.\n",
      "\n",
      "  warnings.warn(_use_error_msg)\n"
     ]
    }
   ],
   "source": [
    "#!/usr/bin/env python\n",
    "# Plots data in binary dumps.\n",
    "# Usage: python plot.py nl-shwave.0024.bin\n",
    "\n",
    "from numpy import *\n",
    "import sys\n",
    "from matplotlib import use\n",
    "use('Agg')\n",
    "from matplotlib import pyplot\n",
    "\n",
    "%matplotlib inline"
   ]
  },
  {
   "cell_type": "markdown",
   "metadata": {},
   "source": []
  },
  {
   "cell_type": "code",
   "execution_count": 59,
   "metadata": {
    "collapsed": false
   },
   "outputs": [],
   "source": [
    "#\n",
    "# Read binary file\n",
    "#\n",
    "try:\n",
    "  file = open('../../bin/rt.0002.bin','rb')\n",
    "except:\n",
    "  print('Usage: ./read.py <binary_dump>')\n",
    "  sys.exit()\n",
    "\n",
    "file.seek(0,2)\n",
    "eof = file.tell()\n",
    "file.seek(0,0)\n",
    "\n",
    "coordsys = fromfile(file,dtype=int32,count=1)[0]\n",
    "\n",
    "#nx,ny,nz = fromfile(file,dtype=int32,count=7)[:3]\n",
    "\n",
    "ndata = fromfile(file,dtype=int32,count=7)[:7]\n",
    "nx= ndata[0]\n",
    "ny= ndata[1]\n",
    "nz= ndata[2]\n",
    "\n",
    "\n",
    "gamma1,cs = fromfile(file,dtype=float,count=2)\n",
    "\n",
    "t,dt = fromfile(file,dtype=float,count=2)\n",
    "\n",
    "x = fromfile(file,dtype=float,count=nx)\n",
    "y = fromfile(file,dtype=float,count=ny)\n",
    "z = fromfile(file,dtype=float,count=nz)\n",
    "\n",
    "shape = (nz,ny,nx)\n",
    "count = prod(shape)\n",
    "\n",
    "rho = fromfile(file,dtype=float,count=count).reshape(shape)\n",
    "m1 = fromfile(file,dtype=float,count=count).reshape(shape)\n",
    "m2 = fromfile(file,dtype=float,count=count).reshape(shape)\n",
    "m3 = fromfile(file,dtype=float,count=count).reshape(shape)\n",
    "e = fromfile(file,dtype=float,count=count).reshape(shape)\n",
    "b1 = fromfile(file,dtype=float,count=count).reshape(shape)\n",
    "b2 = fromfile(file,dtype=float,count=count).reshape(shape)\n",
    "b3 = fromfile(file,dtype=float,count=count).reshape(shape)\n",
    "\n",
    "if file.tell() != eof: print('Error: Too few bytes read.')\n",
    "\n",
    "file.close()"
   ]
  },
  {
   "cell_type": "code",
   "execution_count": 60,
   "metadata": {
    "collapsed": false
   },
   "outputs": [
    {
     "name": "stdout",
     "output_type": "stream",
     "text": [
      "(120, 120, 120)\n",
      "120 120 120\n",
      "[120 120 120   8   0   0   0]\n",
      "1.03999641139 0.0649997685823\n",
      "0.666666667 0.0\n",
      "-1\n",
      "1728000\n"
     ]
    }
   ],
   "source": [
    "print(shape)\n",
    "print(nx,ny,nz)\n",
    "print(ndata)\n",
    "print(t,dt)\n",
    "print(gamma1,cs)\n",
    "print(coordsys)\n",
    "print(count)\n"
   ]
  },
  {
   "cell_type": "raw",
   "metadata": {},
   "source": []
  },
  {
   "cell_type": "code",
   "execution_count": 61,
   "metadata": {
    "collapsed": false,
    "scrolled": true
   },
   "outputs": [
    {
     "name": "stdout",
     "output_type": "stream",
     "text": [
      "135243.381125 182643.483375 3121449.82287 5775855.54887\n",
      "18611.62875 51928.68625 2117586.25125 3983341.47125\n",
      "18611.62875 51928.68625 2117586.25125 3983341.47125\n",
      "(120, 120)\n",
      "8.67782608988e-12 8.67782607953e-12 8.67782607953e-12 8.67782563603e-12 8.67782608988e-12\n",
      "-0.158669984904 -0.156888758692 -0.156888758692 -0.160389887126 -0.158669984904\n",
      "[ -1.37679606e-01  -5.97944419e-02  -5.59104857e-02  -6.92378100e-02\n",
      "   1.67197008e-02   4.84522626e-01   2.38889641e+00   5.58660603e+00\n",
      "   6.38872856e+00   3.65910281e+00   1.00728091e+00   1.15124485e-01\n",
      "  -1.92226890e-02  -2.95547288e-02  -2.99893878e-02  -3.34873279e-02\n",
      "  -3.31193124e-02  -3.04464484e-02  -3.38162872e-02  -3.32512386e-02\n",
      "  -3.47666671e-02  -3.50407119e-02  -3.71874698e-02  -3.91820184e-02\n",
      "  -4.48799924e-02  -4.67080794e-02  -3.08648333e-02  -3.47171734e-02\n",
      "  -5.15751638e-02  -1.14620977e-01  -1.18315726e-01  -8.04678884e-02\n",
      "  -4.02017860e-02  -5.50491743e-02  -6.76164372e-02  -8.71769675e-02\n",
      "  -1.10337145e-01  -1.21497963e-01  -1.29122438e-01  -1.43069228e-01\n",
      "  -1.72590225e-01  -1.96242631e-01  -2.17907960e-01  -2.34228799e-01\n",
      "  -2.50177476e-01  -2.78213153e-01  -2.83273091e-01  -2.59740948e-01\n",
      "  -2.43353457e-01  -2.65542292e-01  -3.00789002e-01  -2.92099872e-01\n",
      "  -2.31418255e-01  -1.64318199e-01  -1.40393303e-01  -1.75762206e-01\n",
      "  -2.22952999e-01  -2.24574243e-01  -1.92700263e-01  -1.56888759e-01\n",
      "  -1.26659670e-01  -1.16396328e-01  -1.56073181e-01  -2.13456928e-01\n",
      "  -2.26446576e-01  -2.06065345e-01  -1.75579490e-01  -1.52883326e-01\n",
      "  -1.54557781e-01  -1.71755968e-01  -1.54870018e-01  -1.07310684e-01\n",
      "  -9.32727342e-02  -9.92154022e-02  -8.87239669e-02  -6.22523234e-02\n",
      "  -6.32618344e-02  -6.88504631e-02  -4.72618712e-02  -5.18509415e-02\n",
      "  -1.16246097e-01  -1.74452998e-01  -1.72890859e-01  -1.63170268e-01\n",
      "  -1.94596967e-01  -2.25190551e-01  -1.75646551e-01  -1.05155910e-01\n",
      "  -1.19187191e-01  -1.63856059e-01  -1.56445665e-01  -1.05501975e-01\n",
      "  -9.23503126e-02  -1.25447198e-01  -1.34473120e-01  -9.92391409e-02\n",
      "  -1.00854503e-01  -1.87665735e-01  -2.52471455e-01  -2.08459142e-01\n",
      "  -1.07438916e-01  -8.65033891e-02  -1.53983294e-01  -1.97587956e-01\n",
      "  -1.71124606e-01  -1.38114252e-01  -1.37102038e-01  -1.28703305e-01\n",
      "  -6.63102632e-02  -4.03880199e-02  -1.10596566e-01  -1.95819586e-01\n",
      "  -2.03659242e-01  -1.40391224e-01  -6.28931468e-02  -1.48759702e-03\n",
      "   2.08959645e-02  -6.71593660e-04  -3.74401151e-02  -5.10166001e-02]\n"
     ]
    }
   ],
   "source": [
    "print(z[0],z[1],z[63],z[119])\n",
    "print(y[0],y[1],y[63],y[119])\n",
    "print(x[0],x[1],x[63],x[119])\n",
    "rhosec=rho[:,:,63]\n",
    "m3sec=m3[:,:,63]\n",
    "print(rhosec.shape)\n",
    "print(rhosec[lay][0],rhosec[lay][30],rhosec[lay][63],rhosec[lay][118],rhosec[lay][119])\n",
    "m7=m2sec/rhosec\n",
    "lay=59\n",
    "v2sec=m3sec/rhosec\n",
    "print(v2sec[lay][0],v2sec[lay][30],v2sec[lay][63],v2sec[lay][118],v2sec[lay][119])\n",
    "#print(rho[5][0],rho[5][30],rho[5][63],rho[5][119])\n",
    "#print(rho[lay][0],rho[lay][1],rho[lay][30],rho[lay][63],rho[lay][117],rho[lay][118],rho[lay][119])\n",
    "#print(m7[lay][0],m7[lay][1],m7[lay][30],m7[lay][63],m7[lay][117],m7[lay][118],m7[lay][119])\n",
    "#print(m7[:,59])\n",
    "#print(rho[:,59])\n",
    "print(v2sec[:,59])"
   ]
  },
  {
   "cell_type": "code",
   "execution_count": 62,
   "metadata": {
    "collapsed": false
   },
   "outputs": [
    {
     "data": {
      "text/plain": [
       "<matplotlib.image.AxesImage at 0x7f1ff64d0c88>"
      ]
     },
     "execution_count": 62,
     "metadata": {},
     "output_type": "execute_result"
    },
    {
     "data": {
      "image/png": "[encoded data removed]",
      "text/plain": [
       "<matplotlib.figure.Figure at 0x7f1ff63754a8>"
      ]
     },
     "metadata": {},
     "output_type": "display_data"
    }
   ],
   "source": [
    "#\n",
    "# Plot density field\n",
    "#\n",
    "fig1,ax1 = pyplot.subplots(1,2,num=1)\n",
    "\n",
    "ax1[0].imshow(rhosec)\n",
    "\n",
    "ax1[1].imshow(v2sec)\n",
    "\n",
    "\n",
    "#import matplotlib.pyplot as plt\n",
    "#import matplotlib.image as mpimg\n",
    "\n",
    "#imgplot = plt.imshow(rho)\n",
    "#imgplot.set_cmap('spectral')\n",
    "\n",
    "#plt.plot(rho[96,:])\n",
    "#print rho[96][:]\n",
    "\n",
    "\n",
    "\n",
    "\n",
    "#fig1.savefig('fig1.png',dpi=fig1.get_dpi())\n"
   ]
  }
 ],
 "metadata": {
  "kernelspec": {
   "display_name": "Python 3",
   "language": "python",
   "name": "python3"
  },
  "language_info": {
   "codemirror_mode": {
    "name": "ipython",
    "version": 3
   },
   "file_extension": ".py",
   "mimetype": "text/x-python",
   "name": "python",
   "nbconvert_exporter": "python",
   "pygments_lexer": "ipython3",
   "version": "3.5.4"
  }
 },
 "nbformat": 4,
 "nbformat_minor": 0
}
