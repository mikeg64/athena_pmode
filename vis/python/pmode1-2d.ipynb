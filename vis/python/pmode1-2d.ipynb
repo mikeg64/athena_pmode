{
 "cells": [
  {
   "cell_type": "code",
   "execution_count": 140,
   "metadata": {
    "collapsed": false
   },
   "outputs": [
    {
     "name": "stderr",
     "output_type": "stream",
     "text": [
      "/opt/gridware/depots/74ad4a9a/el7/pkg/apps/anaconda3/2.5.0/bin/lib/python3.5/site-packages/matplotlib/__init__.py:1350: UserWarning:  This call to matplotlib.use() has no effect\n",
      "because the backend has already been chosen;\n",
      "matplotlib.use() must be called *before* pylab, matplotlib.pyplot,\n",
      "or matplotlib.backends is imported for the first time.\n",
      "\n",
      "  warnings.warn(_use_error_msg)\n"
     ]
    }
   ],
   "source": [
    "#!/usr/bin/env python\n",
    "# Plots data in binary dumps.\n",
    "# Usage: python plot.py nl-shwave.0024.bin\n",
    "\n",
    "from numpy import *\n",
    "import sys\n",
    "from matplotlib import use\n",
    "use('Agg')\n",
    "from matplotlib import pyplot\n",
    "\n",
    "%matplotlib inline"
   ]
  },
  {
   "cell_type": "markdown",
   "metadata": {},
   "source": []
  },
  {
   "cell_type": "code",
   "execution_count": 141,
   "metadata": {
    "collapsed": false
   },
   "outputs": [],
   "source": [
    "#\n",
    "# Read binary file\n",
    "#\n",
    "try:\n",
    "  file = open('../../bin/rt.1330.bin','rb')\n",
    "except:\n",
    "  print('Usage: ./read.py <binary_dump>')\n",
    "  sys.exit()\n",
    "\n",
    "file.seek(0,2)\n",
    "eof = file.tell()\n",
    "file.seek(0,0)\n",
    "\n",
    "coordsys = fromfile(file,dtype=int32,count=1)[0]\n",
    "\n",
    "#nx,ny,nz = fromfile(file,dtype=int32,count=7)[:3]\n",
    "\n",
    "ndata = fromfile(file,dtype=int32,count=7)[:7]\n",
    "nx= ndata[0]\n",
    "ny= ndata[1]\n",
    "nz= ndata[2]\n",
    "\n",
    "\n",
    "gamma1,cs = fromfile(file,dtype=float,count=2)\n",
    "\n",
    "t,dt = fromfile(file,dtype=float,count=2)\n",
    "\n",
    "x = fromfile(file,dtype=float,count=nx)\n",
    "y = fromfile(file,dtype=float,count=ny)\n",
    "z = fromfile(file,dtype=float,count=nz)\n",
    "\n",
    "shape = (ny,nx)\n",
    "count = prod(shape)\n",
    "\n",
    "rho = fromfile(file,dtype=float,count=count).reshape(shape)\n",
    "m1 = fromfile(file,dtype=float,count=count).reshape(shape)\n",
    "m2 = fromfile(file,dtype=float,count=count).reshape(shape)\n",
    "m3 = fromfile(file,dtype=float,count=count).reshape(shape)\n",
    "e = fromfile(file,dtype=float,count=count).reshape(shape)\n",
    "b1 = fromfile(file,dtype=float,count=count).reshape(shape)\n",
    "b2 = fromfile(file,dtype=float,count=count).reshape(shape)\n",
    "b3 = fromfile(file,dtype=float,count=count).reshape(shape)\n",
    "\n",
    "if file.tell() != eof: print('Error: Too few bytes read.')\n",
    "\n",
    "file.close()"
   ]
  },
  {
   "cell_type": "code",
   "execution_count": 142,
   "metadata": {
    "collapsed": false
   },
   "outputs": [
    {
     "name": "stdout",
     "output_type": "stream",
     "text": [
      "(120, 120)\n",
      "120 120 1\n",
      "[120 120   1   8   0   0   0]\n",
      "665.040658766 0.0648969668853\n",
      "0.666666667 0.0\n",
      "-1\n",
      "14400\n"
     ]
    }
   ],
   "source": [
    "print(shape)\n",
    "print(nx,ny,nz)\n",
    "print(ndata)\n",
    "print(t,dt)\n",
    "print(gamma1,cs)\n",
    "print(coordsys)\n",
    "print(count)\n"
   ]
  },
  {
   "cell_type": "raw",
   "metadata": {},
   "source": []
  },
  {
   "cell_type": "code",
   "execution_count": 143,
   "metadata": {
    "collapsed": false,
    "scrolled": true
   },
   "outputs": [
    {
     "name": "stdout",
     "output_type": "stream",
     "text": [
      "135243.381125 182643.483375 3121449.82287 5775855.54887\n",
      "18611.62875 51928.68625 2117586.25125 3983341.47125\n",
      "(120, 120)\n",
      "1.87195984701e-05 1.865776875e-05 1.8816242554e-05 1.87308016502e-05 1.87313873793e-05\n",
      "5.56675264963e-06 5.56653944689e-06 5.57065354023e-06 5.72451869515e-06 5.57853139542e-06 5.57707289031e-06 5.57433082477e-06\n",
      "3.84892397186 8.63795079092 -2.09234268502 -17.1632678295 -6.48947237773 -5.67902359867 -3.13971047614\n",
      "[ -3.20628293e+01  -1.06841364e+02   2.64501452e+00   1.85668811e+02\n",
      "   1.84748099e+02   6.27805293e+01  -6.52163410e+00  -1.08196241e+02\n",
      "  -9.82188635e+01  -1.33484059e+02  -7.89687993e+00   1.67783823e+02\n",
      "   5.17566894e+02   3.53285120e+02  -5.65472322e+02  -8.98531561e+02\n",
      "  -3.81900583e+02   9.55884351e+01   6.27865281e+02   2.05334055e+02\n",
      "  -6.76491715e+02  -8.02381746e+02  -4.48546174e+01   5.45318076e+02\n",
      "   9.16124883e+02   5.61386661e+02  -4.16319242e+02  -8.82559082e+02\n",
      "  -4.93043935e+02   1.22706500e+01   3.96005897e+02   6.57095090e+02\n",
      "   8.58496158e+02   9.63152716e+02   9.72402065e+02   8.01656525e+02\n",
      "   3.04639110e+02  -4.38782173e+02  -1.23315916e+03  -1.94095496e+03\n",
      "  -2.50189500e+03  -2.87993531e+03  -3.08990592e+03  -3.16741505e+03\n",
      "  -3.18158677e+03  -3.12730354e+03  -3.03197396e+03  -2.89960336e+03\n",
      "  -2.74569382e+03  -2.58033489e+03  -2.41266607e+03  -2.24906959e+03\n",
      "  -2.09312257e+03  -1.94683046e+03  -1.81129868e+03  -1.68676202e+03\n",
      "  -1.57288967e+03  -1.46892998e+03  -1.37391596e+03  -1.28689064e+03\n",
      "  -1.20690908e+03  -1.13309384e+03  -1.06477056e+03  -1.00153773e+03\n",
      "  -9.43162871e+02  -8.89157325e+02  -8.38545397e+02  -7.90127091e+02\n",
      "  -7.43113976e+02  -6.97575860e+02  -6.54193449e+02  -6.13558287e+02\n",
      "  -5.75620361e+02  -5.39833632e+02  -5.05671441e+02  -4.72942987e+02\n",
      "  -4.41631785e+02  -4.11733108e+02  -3.83129791e+02  -3.55660443e+02\n",
      "  -3.29265470e+02  -3.04063899e+02  -2.79932954e+02  -2.56847728e+02\n",
      "  -2.34813709e+02  -2.13947478e+02  -1.94380000e+02  -1.76111399e+02\n",
      "  -1.58976890e+02  -1.42743183e+02  -1.27248063e+02  -1.12443669e+02\n",
      "  -9.83253594e+01  -8.48480275e+01  -7.19333502e+01  -5.95289513e+01\n",
      "  -4.76458192e+01  -3.63027611e+01  -2.54727485e+01  -1.50980035e+01\n",
      "  -5.11694192e+00   4.46898918e+00   1.36170195e+01   2.22623243e+01\n",
      "   3.03270492e+01   3.78442930e+01   4.49421639e+01   5.17860398e+01\n",
      "   5.85247558e+01   6.52237003e+01   7.19437323e+01   7.87529614e+01\n",
      "   8.56715309e+01   9.26654127e+01   9.95422523e+01   1.06275390e+02\n",
      "   1.12374996e+02   1.18589010e+02   1.21832765e+02   1.30916894e+02]\n",
      "[  1.87184195e-05   1.40356276e-05   1.02880571e-05   7.49473136e-06\n",
      "   5.40009920e-06   4.09844056e-06   2.95182474e-06   2.37626209e-06\n",
      "   1.64755701e-06   1.15978042e-06   8.19494885e-07   6.76311466e-07\n",
      "   5.08665093e-07   3.61080324e-07   2.35984999e-07   1.74129009e-07\n",
      "   1.27125335e-07   1.07413419e-07   7.95522717e-08   5.58872474e-08\n",
      "   3.58040813e-08   2.70377587e-08   2.07506882e-08   1.75215076e-08\n",
      "   1.33787192e-08   9.53759943e-09   6.29108335e-09   4.61082504e-09\n",
      "   3.46922877e-09   2.67776866e-09   2.07230846e-09   1.57465506e-09\n",
      "   1.16548670e-09   8.42896931e-10   6.00945021e-10   4.21841070e-10\n",
      "   2.93412211e-10   2.03460345e-10   1.43911457e-10   1.03605541e-10\n",
      "   7.60352783e-11   5.67416727e-11   4.31954331e-11   3.36019632e-11\n",
      "   2.67637641e-11   2.18461286e-11   1.83239882e-11   1.57874994e-11\n",
      "   1.39510272e-11   1.26092958e-11   1.16189468e-11   1.08789056e-11\n",
      "   1.03189749e-11   9.88917486e-12   9.55404202e-12   9.28806776e-12\n",
      "   9.07287454e-12   8.89500580e-12   8.74484883e-12   8.61521786e-12\n",
      "   8.50101427e-12   8.39839885e-12   8.30465730e-12   8.21776983e-12\n",
      "   8.13625504e-12   8.05904953e-12   7.98531301e-12   7.91442666e-12\n",
      "   7.84588434e-12   7.77941077e-12   7.71469600e-12   7.65163949e-12\n",
      "   7.59010117e-12   7.52990608e-12   7.47105027e-12   7.41336232e-12\n",
      "   7.35686720e-12   7.30144598e-12   7.24710285e-12   7.19376791e-12\n",
      "   7.14141901e-12   7.09003466e-12   7.03953824e-12   6.98996459e-12\n",
      "   6.94120387e-12   6.89332176e-12   6.84620618e-12   6.79992998e-12\n",
      "   6.75439575e-12   6.70961797e-12   6.66559523e-12   6.62227024e-12\n",
      "   6.57966650e-12   6.53772641e-12   6.49647674e-12   6.45583822e-12\n",
      "   6.41586943e-12   6.37649355e-12   6.33772181e-12   6.29955605e-12\n",
      "   6.26194741e-12   6.22492067e-12   6.18841710e-12   6.15245350e-12\n",
      "   6.11699204e-12   6.08207540e-12   6.04762309e-12   6.01365160e-12\n",
      "   5.98017708e-12   5.94715785e-12   5.91461521e-12   5.88252623e-12\n",
      "   5.85089331e-12   5.81967774e-12   5.78890562e-12   5.75852689e-12\n",
      "   5.72849536e-12   5.69932166e-12   5.66783869e-12   5.65065438e-12]\n"
     ]
    }
   ],
   "source": [
    "print(y[0],y[1],y[63],y[119])\n",
    "print(x[0],x[1],x[63],x[119])\n",
    "print(rho.shape)\n",
    "print(rho[0][0],rho[0][30],rho[0][63],rho[0][118],rho[0][119])\n",
    "m7=m2/rho\n",
    "lay=4\n",
    "v2=m2/rho\n",
    "#print(rho[5][0],rho[5][30],rho[5][63],rho[5][119])\n",
    "print(rho[lay][0],rho[lay][1],rho[lay][30],rho[lay][63],rho[lay][117],rho[lay][118],rho[lay][119])\n",
    "print(m7[lay][0],m7[lay][1],m7[lay][30],m7[lay][63],m7[lay][117],m7[lay][118],m7[lay][119])\n",
    "print(m7[:,59])\n",
    "print(rho[:,59])"
   ]
  },
  {
   "cell_type": "code",
   "execution_count": 144,
   "metadata": {
    "collapsed": false
   },
   "outputs": [
    {
     "data": {
      "text/plain": [
       "<matplotlib.image.AxesImage at 0x7f9dc6114fd0>"
      ]
     },
     "execution_count": 144,
     "metadata": {},
     "output_type": "execute_result"
    },
    {
     "data": {
      "image/png": "[encoded data removed]",
      "text/plain": [
       "<matplotlib.figure.Figure at 0x7f9dc60f1898>"
      ]
     },
     "metadata": {},
     "output_type": "display_data"
    }
   ],
   "source": [
    "#\n",
    "# Plot density field\n",
    "#\n",
    "fig1,ax1 = pyplot.subplots(1,2,num=1)\n",
    "\n",
    "ax1[0].imshow(rho)\n",
    "\n",
    "ax1[1].imshow(v2)\n",
    "\n",
    "\n",
    "#import matplotlib.pyplot as plt\n",
    "#import matplotlib.image as mpimg\n",
    "\n",
    "#imgplot = plt.imshow(rho)\n",
    "#imgplot.set_cmap('spectral')\n",
    "\n",
    "#plt.plot(rho[96,:])\n",
    "#print rho[96][:]\n",
    "\n",
    "\n",
    "\n",
    "\n",
    "#fig1.savefig('fig1.png',dpi=fig1.get_dpi())\n"
   ]
  }
 ],
 "metadata": {
  "kernelspec": {
   "display_name": "Python 3",
   "language": "python",
   "name": "python3"
  },
  "language_info": {
   "codemirror_mode": {
    "name": "ipython",
    "version": 3
   },
   "file_extension": ".py",
   "mimetype": "text/x-python",
   "name": "python",
   "nbconvert_exporter": "python",
   "pygments_lexer": "ipython3",
   "version": "3.5.4"
  }
 },
 "nbformat": 4,
 "nbformat_minor": 0
}
